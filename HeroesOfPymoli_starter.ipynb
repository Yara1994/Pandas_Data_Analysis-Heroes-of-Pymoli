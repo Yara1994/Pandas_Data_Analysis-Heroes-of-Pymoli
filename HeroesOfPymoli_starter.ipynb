{
 "cells": [
  {
   "cell_type": "markdown",
   "metadata": {},
   "source": [
    "### Heroes Of Pymoli Data Analysis\n",
    "* Of the 1163 active players, the vast majority are male (84%). There also exists, a smaller, but notable proportion of female players (14%).\n",
    "\n",
    "* Our peak age demographic falls between 20-24 (44.8%) with secondary groups falling between 15-19 (18.60%) and 25-29 (13.4%).  \n",
    "-----"
   ]
  },
  {
   "cell_type": "markdown",
   "metadata": {},
   "source": [
    "### Note\n",
    "* Instructions have been included for each segment. You do not have to follow them exactly, but they are included to help you think through the steps."
   ]
  },
  {
   "cell_type": "code",
   "execution_count": 1,
   "metadata": {},
   "outputs": [
    {
     "data": {
      "text/html": [
       "<div>\n",
       "<style scoped>\n",
       "    .dataframe tbody tr th:only-of-type {\n",
       "        vertical-align: middle;\n",
       "    }\n",
       "\n",
       "    .dataframe tbody tr th {\n",
       "        vertical-align: top;\n",
       "    }\n",
       "\n",
       "    .dataframe thead th {\n",
       "        text-align: right;\n",
       "    }\n",
       "</style>\n",
       "<table border=\"1\" class=\"dataframe\">\n",
       "  <thead>\n",
       "    <tr style=\"text-align: right;\">\n",
       "      <th></th>\n",
       "      <th>Purchase ID</th>\n",
       "      <th>SN</th>\n",
       "      <th>Age</th>\n",
       "      <th>Gender</th>\n",
       "      <th>Item ID</th>\n",
       "      <th>Item Name</th>\n",
       "      <th>Price</th>\n",
       "    </tr>\n",
       "  </thead>\n",
       "  <tbody>\n",
       "    <tr>\n",
       "      <th>0</th>\n",
       "      <td>0</td>\n",
       "      <td>Lisim78</td>\n",
       "      <td>20</td>\n",
       "      <td>Male</td>\n",
       "      <td>108</td>\n",
       "      <td>Extraction, Quickblade Of Trembling Hands</td>\n",
       "      <td>3.53</td>\n",
       "    </tr>\n",
       "    <tr>\n",
       "      <th>1</th>\n",
       "      <td>1</td>\n",
       "      <td>Lisovynya38</td>\n",
       "      <td>40</td>\n",
       "      <td>Male</td>\n",
       "      <td>143</td>\n",
       "      <td>Frenzied Scimitar</td>\n",
       "      <td>1.56</td>\n",
       "    </tr>\n",
       "    <tr>\n",
       "      <th>2</th>\n",
       "      <td>2</td>\n",
       "      <td>Ithergue48</td>\n",
       "      <td>24</td>\n",
       "      <td>Male</td>\n",
       "      <td>92</td>\n",
       "      <td>Final Critic</td>\n",
       "      <td>4.88</td>\n",
       "    </tr>\n",
       "    <tr>\n",
       "      <th>3</th>\n",
       "      <td>3</td>\n",
       "      <td>Chamassasya86</td>\n",
       "      <td>24</td>\n",
       "      <td>Male</td>\n",
       "      <td>100</td>\n",
       "      <td>Blindscythe</td>\n",
       "      <td>3.27</td>\n",
       "    </tr>\n",
       "    <tr>\n",
       "      <th>4</th>\n",
       "      <td>4</td>\n",
       "      <td>Iskosia90</td>\n",
       "      <td>23</td>\n",
       "      <td>Male</td>\n",
       "      <td>131</td>\n",
       "      <td>Fury</td>\n",
       "      <td>1.44</td>\n",
       "    </tr>\n",
       "  </tbody>\n",
       "</table>\n",
       "</div>"
      ],
      "text/plain": [
       "   Purchase ID             SN  Age Gender  Item ID  \\\n",
       "0            0        Lisim78   20   Male      108   \n",
       "1            1    Lisovynya38   40   Male      143   \n",
       "2            2     Ithergue48   24   Male       92   \n",
       "3            3  Chamassasya86   24   Male      100   \n",
       "4            4      Iskosia90   23   Male      131   \n",
       "\n",
       "                                   Item Name  Price  \n",
       "0  Extraction, Quickblade Of Trembling Hands   3.53  \n",
       "1                          Frenzied Scimitar   1.56  \n",
       "2                               Final Critic   4.88  \n",
       "3                                Blindscythe   3.27  \n",
       "4                                       Fury   1.44  "
      ]
     },
     "execution_count": 1,
     "metadata": {},
     "output_type": "execute_result"
    }
   ],
   "source": [
    "# Dependencies and Setup\n",
    "\n",
    "import pandas as pd\n",
    "import numpy as np\n",
    "\n",
    "# File to Load (Remember to Change These)\n",
    "\n",
    "file_to_load = \"Resources/purchase_data.csv\"\n",
    "\n",
    "# Read Purchasing File and store into Pandas data frame\n",
    "\n",
    "purchase_data = pd.read_csv(file_to_load)\n",
    "\n",
    "purchase_data.head()"
   ]
  },
  {
   "cell_type": "markdown",
   "metadata": {},
   "source": [
    "## Player Count"
   ]
  },
  {
   "cell_type": "markdown",
   "metadata": {},
   "source": [
    "* Display the total number of players\n"
   ]
  },
  {
   "cell_type": "code",
   "execution_count": 2,
   "metadata": {},
   "outputs": [
    {
     "data": {
      "text/html": [
       "<div>\n",
       "<style scoped>\n",
       "    .dataframe tbody tr th:only-of-type {\n",
       "        vertical-align: middle;\n",
       "    }\n",
       "\n",
       "    .dataframe tbody tr th {\n",
       "        vertical-align: top;\n",
       "    }\n",
       "\n",
       "    .dataframe thead th {\n",
       "        text-align: right;\n",
       "    }\n",
       "</style>\n",
       "<table border=\"1\" class=\"dataframe\">\n",
       "  <thead>\n",
       "    <tr style=\"text-align: right;\">\n",
       "      <th></th>\n",
       "      <th>Total Players</th>\n",
       "    </tr>\n",
       "  </thead>\n",
       "  <tbody>\n",
       "    <tr>\n",
       "      <th>0</th>\n",
       "      <td>576</td>\n",
       "    </tr>\n",
       "  </tbody>\n",
       "</table>\n",
       "</div>"
      ],
      "text/plain": [
       "   Total Players\n",
       "0            576"
      ]
     },
     "execution_count": 2,
     "metadata": {},
     "output_type": "execute_result"
    }
   ],
   "source": [
    "# Count total number of players\n",
    "\n",
    "total_players = len(purchase_data[\"SN\"].value_counts())\n",
    "\n",
    "# Create a Data Frame with total number of players\n",
    "\n",
    "total_players_count = pd.DataFrame({\"Total Players\":[total_players]})\n",
    "\n",
    "total_players_count"
   ]
  },
  {
   "cell_type": "markdown",
   "metadata": {},
   "source": [
    "## Purchasing Analysis (Total)"
   ]
  },
  {
   "cell_type": "markdown",
   "metadata": {},
   "source": [
    "* Run basic calculations to obtain number of unique items, average price, etc.\n",
    "\n",
    "\n",
    "* Create a summary data frame to hold the results\n",
    "\n",
    "\n",
    "* Optional: give the displayed data cleaner formatting\n",
    "\n",
    "\n",
    "* Display the summary data frame\n"
   ]
  },
  {
   "cell_type": "code",
   "execution_count": 3,
   "metadata": {
    "scrolled": true
   },
   "outputs": [
    {
     "data": {
      "text/html": [
       "<style  type=\"text/css\" >\n",
       "</style><table id=\"T_e6da3dd8_7371_11e9_8210_bca8a685a9d9\" ><thead>    <tr>        <th class=\"blank level0\" ></th>        <th class=\"col_heading level0 col0\" >Number of Unique Items</th>        <th class=\"col_heading level0 col1\" >Average Purchase Price</th>        <th class=\"col_heading level0 col2\" >Total Number of Purchases</th>        <th class=\"col_heading level0 col3\" >Total Revenue</th>    </tr></thead><tbody>\n",
       "                <tr>\n",
       "                        <th id=\"T_e6da3dd8_7371_11e9_8210_bca8a685a9d9level0_row0\" class=\"row_heading level0 row0\" >0</th>\n",
       "                        <td id=\"T_e6da3dd8_7371_11e9_8210_bca8a685a9d9row0_col0\" class=\"data row0 col0\" >183</td>\n",
       "                        <td id=\"T_e6da3dd8_7371_11e9_8210_bca8a685a9d9row0_col1\" class=\"data row0 col1\" >$3.05</td>\n",
       "                        <td id=\"T_e6da3dd8_7371_11e9_8210_bca8a685a9d9row0_col2\" class=\"data row0 col2\" >780</td>\n",
       "                        <td id=\"T_e6da3dd8_7371_11e9_8210_bca8a685a9d9row0_col3\" class=\"data row0 col3\" >$2,379.77</td>\n",
       "            </tr>\n",
       "    </tbody></table>"
      ],
      "text/plain": [
       "<pandas.io.formats.style.Styler at 0x2261fe6bf60>"
      ]
     },
     "execution_count": 3,
     "metadata": {},
     "output_type": "execute_result"
    }
   ],
   "source": [
    "# Calculation of (Number of Unique Items), (Average Purchase Price), (Total Number of Purchases) and (Total Revenue)\n",
    "\n",
    "number_of_unique_items = len(purchase_data[\"Item ID\"].unique())\n",
    "\n",
    "average_purchase_price = purchase_data[\"Price\"].mean()\n",
    "\n",
    "total_number_of_purchases = purchase_data[\"Purchase ID\"].count()\n",
    "\n",
    "total_revenue = purchase_data[\"Price\"].sum()\n",
    "\n",
    "# Create a Summary Data Frame to hold the results\n",
    "\n",
    "summary_df = pd.DataFrame({\"Number of Unique Items\": [number_of_unique_items],\n",
    "                          \"Average Purchase Price\": [average_purchase_price],\n",
    "                          \"Total Number of Purchases\": [total_number_of_purchases],\n",
    "                          \"Total Revenue\": [total_revenue]\n",
    "                          })\n",
    "\n",
    "# Give the displayed data cleaner formatting and Run Data Frame\n",
    "\n",
    "# summary_df[\"Average Purchase Price\"] = summary_df[\"Average Purchase Price\"].map(\"${:.2f}\".format)\n",
    "# summary_df[\"Total Revenue\"] = summary_df[\"Total Revenue\"].map(\"${:,}\".format)\n",
    "\n",
    "summary_df.style.format({\"Average Purchase Price\": \"${:.2f}\",\n",
    "                         \"Total Revenue\": \"${:,}\"})"
   ]
  },
  {
   "cell_type": "markdown",
   "metadata": {},
   "source": [
    "## Gender Demographics"
   ]
  },
  {
   "cell_type": "markdown",
   "metadata": {},
   "source": [
    "* Percentage and Count of Male Players\n",
    "\n",
    "\n",
    "* Percentage and Count of Female Players\n",
    "\n",
    "\n",
    "* Percentage and Count of Other / Non-Disclosed\n",
    "\n",
    "\n"
   ]
  },
  {
   "cell_type": "code",
   "execution_count": 4,
   "metadata": {},
   "outputs": [
    {
     "data": {
      "text/html": [
       "<div>\n",
       "<style scoped>\n",
       "    .dataframe tbody tr th:only-of-type {\n",
       "        vertical-align: middle;\n",
       "    }\n",
       "\n",
       "    .dataframe tbody tr th {\n",
       "        vertical-align: top;\n",
       "    }\n",
       "\n",
       "    .dataframe thead th {\n",
       "        text-align: right;\n",
       "    }\n",
       "</style>\n",
       "<table border=\"1\" class=\"dataframe\">\n",
       "  <thead>\n",
       "    <tr style=\"text-align: right;\">\n",
       "      <th></th>\n",
       "      <th>Total Count</th>\n",
       "      <th>Percentage of Players</th>\n",
       "    </tr>\n",
       "  </thead>\n",
       "  <tbody>\n",
       "    <tr>\n",
       "      <th>Male</th>\n",
       "      <td>484</td>\n",
       "      <td>84.03</td>\n",
       "    </tr>\n",
       "    <tr>\n",
       "      <th>Female</th>\n",
       "      <td>81</td>\n",
       "      <td>14.06</td>\n",
       "    </tr>\n",
       "    <tr>\n",
       "      <th>Other / Non-Disclosed</th>\n",
       "      <td>11</td>\n",
       "      <td>1.91</td>\n",
       "    </tr>\n",
       "  </tbody>\n",
       "</table>\n",
       "</div>"
      ],
      "text/plain": [
       "                       Total Count Percentage of Players\n",
       "Male                           484                 84.03\n",
       "Female                          81                 14.06\n",
       "Other / Non-Disclosed           11                  1.91"
      ]
     },
     "execution_count": 4,
     "metadata": {},
     "output_type": "execute_result"
    }
   ],
   "source": [
    "# Group original Data Frame by \"Gender\"\n",
    "\n",
    "gender_statistics = purchase_data.groupby([\"Gender\"])\n",
    "\n",
    "# Count the total of \"SN\" by gender\n",
    "\n",
    "total_count_gender = gender_statistics[\"SN\"].nunique()\n",
    "\n",
    "# Find percentage of players by gender\n",
    "\n",
    "percentage_of_players = total_count_gender / total_players * 100\n",
    "\n",
    "# Create data frame with obtained values\n",
    "\n",
    "gender_df = pd.DataFrame({\"Total Count\": total_count_gender, \n",
    "                          \"Percentage of Players\": percentage_of_players})\n",
    "\n",
    "# Format the data frame with no index name in the corner\n",
    "\n",
    "gender_df.index.name = None\n",
    "\n",
    "# Give the displayed data cleaner formatting and Run Data Frame\n",
    "\n",
    "# gender_df.style.format({\"Percentage of Players\": \"{:.2f}\"})\n",
    "\n",
    "gender_df[\"Percentage of Players\"] = gender_df[\"Percentage of Players\"].map(\"{:.2f}\".format)\n",
    " \n",
    "# Format the values sorted by total count in descending order\n",
    "\n",
    "gender_df.sort_values([\"Total Count\"], ascending = False)\n",
    "\n"
   ]
  },
  {
   "cell_type": "markdown",
   "metadata": {},
   "source": [
    "\n",
    "## Purchasing Analysis (Gender)"
   ]
  },
  {
   "cell_type": "markdown",
   "metadata": {},
   "source": [
    "* Run basic calculations to obtain purchase count, avg. purchase price, avg. purchase total per person etc. by gender\n",
    "\n",
    "\n",
    "\n",
    "\n",
    "* Create a summary data frame to hold the results\n",
    "\n",
    "\n",
    "* Optional: give the displayed data cleaner formatting\n",
    "\n",
    "\n",
    "* Display the summary data frame"
   ]
  },
  {
   "cell_type": "code",
   "execution_count": 5,
   "metadata": {},
   "outputs": [
    {
     "data": {
      "text/html": [
       "<style  type=\"text/css\" >\n",
       "</style><table id=\"T_e6e1f3dc_7371_11e9_9db5_bca8a685a9d9\" ><thead>    <tr>        <th class=\"blank level0\" ></th>        <th class=\"col_heading level0 col0\" >Purchase Count</th>        <th class=\"col_heading level0 col1\" >Average Purchase Price</th>        <th class=\"col_heading level0 col2\" >Total Purchase Value</th>        <th class=\"col_heading level0 col3\" >Avg Total Purchase per Person</th>    </tr>    <tr>        <th class=\"index_name level0\" >Gender</th>        <th class=\"blank\" ></th>        <th class=\"blank\" ></th>        <th class=\"blank\" ></th>        <th class=\"blank\" ></th>    </tr></thead><tbody>\n",
       "                <tr>\n",
       "                        <th id=\"T_e6e1f3dc_7371_11e9_9db5_bca8a685a9d9level0_row0\" class=\"row_heading level0 row0\" >Female</th>\n",
       "                        <td id=\"T_e6e1f3dc_7371_11e9_9db5_bca8a685a9d9row0_col0\" class=\"data row0 col0\" >113</td>\n",
       "                        <td id=\"T_e6e1f3dc_7371_11e9_9db5_bca8a685a9d9row0_col1\" class=\"data row0 col1\" >$3.20</td>\n",
       "                        <td id=\"T_e6e1f3dc_7371_11e9_9db5_bca8a685a9d9row0_col2\" class=\"data row0 col2\" >$361.94</td>\n",
       "                        <td id=\"T_e6e1f3dc_7371_11e9_9db5_bca8a685a9d9row0_col3\" class=\"data row0 col3\" >$4.47</td>\n",
       "            </tr>\n",
       "            <tr>\n",
       "                        <th id=\"T_e6e1f3dc_7371_11e9_9db5_bca8a685a9d9level0_row1\" class=\"row_heading level0 row1\" >Male</th>\n",
       "                        <td id=\"T_e6e1f3dc_7371_11e9_9db5_bca8a685a9d9row1_col0\" class=\"data row1 col0\" >652</td>\n",
       "                        <td id=\"T_e6e1f3dc_7371_11e9_9db5_bca8a685a9d9row1_col1\" class=\"data row1 col1\" >$3.02</td>\n",
       "                        <td id=\"T_e6e1f3dc_7371_11e9_9db5_bca8a685a9d9row1_col2\" class=\"data row1 col2\" >$1,967.64</td>\n",
       "                        <td id=\"T_e6e1f3dc_7371_11e9_9db5_bca8a685a9d9row1_col3\" class=\"data row1 col3\" >$4.07</td>\n",
       "            </tr>\n",
       "            <tr>\n",
       "                        <th id=\"T_e6e1f3dc_7371_11e9_9db5_bca8a685a9d9level0_row2\" class=\"row_heading level0 row2\" >Other / Non-Disclosed</th>\n",
       "                        <td id=\"T_e6e1f3dc_7371_11e9_9db5_bca8a685a9d9row2_col0\" class=\"data row2 col0\" >15</td>\n",
       "                        <td id=\"T_e6e1f3dc_7371_11e9_9db5_bca8a685a9d9row2_col1\" class=\"data row2 col1\" >$3.35</td>\n",
       "                        <td id=\"T_e6e1f3dc_7371_11e9_9db5_bca8a685a9d9row2_col2\" class=\"data row2 col2\" >$50.19</td>\n",
       "                        <td id=\"T_e6e1f3dc_7371_11e9_9db5_bca8a685a9d9row2_col3\" class=\"data row2 col3\" >$4.56</td>\n",
       "            </tr>\n",
       "    </tbody></table>"
      ],
      "text/plain": [
       "<pandas.io.formats.style.Styler at 0x22620bd56d8>"
      ]
     },
     "execution_count": 5,
     "metadata": {},
     "output_type": "execute_result"
    }
   ],
   "source": [
    "# Count (The Total Purchases by Gender), (The Average Purchase Prices by Gender), (The Total Purchase Value by Gender)\n",
    "\n",
    "purchase_count = gender_statistics[\"Purchase ID\"].count()\n",
    "\n",
    "average_purchase_price = gender_statistics[\"Price\"].mean()\n",
    "\n",
    "total_purchase_value = gender_statistics[\"Price\"].sum()\n",
    "\n",
    "# Count the average purchase total per person by gender\n",
    "\n",
    "average_purchase_total_per_person = total_purchase_value / total_count_gender\n",
    "\n",
    "# Create data frame with obtained values\n",
    "\n",
    "df_by_gender = pd.DataFrame({\"Purchase Count\": purchase_count,\n",
    "                            \"Average Purchase Price\": average_purchase_price,\n",
    "                            \"Total Purchase Value\": total_purchase_value,\n",
    "                            \"Avg Total Purchase per Person\": average_purchase_total_per_person})\n",
    "\n",
    "\n",
    "# Create index name \"Gender\"\n",
    "\n",
    "df_by_gender.index.name = \"Gender\"\n",
    "\n",
    "# Give the displayed data cleaner formatting and Run Data Frame \n",
    "\n",
    "# df_by_gender[\"Average Purchase Price\"] = df_by_gender[\"Average Purchase Price\"].map(\"${:.2f}\".format)\n",
    "# df_by_gender[\"Total Purchase Value\"] = df_by_gender[\"Total Purchase Value\"].map(\"${:,.2f}\".format)\n",
    "# df_by_gender[\"Avg Total Purchase per Person\"] = df_by_gender[\"Avg Total Purchase per Person\"].map(\"${:.2f}\".format)\n",
    "\n",
    "df_by_gender.style.format({\"Average Purchase Price\": \"${:.2f}\",\n",
    "                           \"Total Purchase Value\": \"${:,.2f}\",\n",
    "                           \"Avg Total Purchase per Person\": \"${:.2f}\"})\n"
   ]
  },
  {
   "cell_type": "markdown",
   "metadata": {},
   "source": [
    "## Age Demographics"
   ]
  },
  {
   "cell_type": "markdown",
   "metadata": {},
   "source": [
    "* Establish bins for ages\n",
    "\n",
    "\n",
    "* Categorize the existing players using the age bins. Hint: use pd.cut()\n",
    "\n",
    "\n",
    "* Calculate the numbers and percentages by age group\n",
    "\n",
    "\n",
    "* Create a summary data frame to hold the results\n",
    "\n",
    "\n",
    "* Optional: round the percentage column to two decimal points\n",
    "\n",
    "\n",
    "* Display Age Demographics Table\n"
   ]
  },
  {
   "cell_type": "code",
   "execution_count": 6,
   "metadata": {},
   "outputs": [
    {
     "data": {
      "text/html": [
       "<style  type=\"text/css\" >\n",
       "</style><table id=\"T_e6e59ae6_7371_11e9_98c3_bca8a685a9d9\" ><thead>    <tr>        <th class=\"blank level0\" ></th>        <th class=\"col_heading level0 col0\" >Total Count</th>        <th class=\"col_heading level0 col1\" >Percentage of Players</th>    </tr></thead><tbody>\n",
       "                <tr>\n",
       "                        <th id=\"T_e6e59ae6_7371_11e9_98c3_bca8a685a9d9level0_row0\" class=\"row_heading level0 row0\" ><10</th>\n",
       "                        <td id=\"T_e6e59ae6_7371_11e9_98c3_bca8a685a9d9row0_col0\" class=\"data row0 col0\" >17</td>\n",
       "                        <td id=\"T_e6e59ae6_7371_11e9_98c3_bca8a685a9d9row0_col1\" class=\"data row0 col1\" >2.95</td>\n",
       "            </tr>\n",
       "            <tr>\n",
       "                        <th id=\"T_e6e59ae6_7371_11e9_98c3_bca8a685a9d9level0_row1\" class=\"row_heading level0 row1\" >10-14</th>\n",
       "                        <td id=\"T_e6e59ae6_7371_11e9_98c3_bca8a685a9d9row1_col0\" class=\"data row1 col0\" >22</td>\n",
       "                        <td id=\"T_e6e59ae6_7371_11e9_98c3_bca8a685a9d9row1_col1\" class=\"data row1 col1\" >3.82</td>\n",
       "            </tr>\n",
       "            <tr>\n",
       "                        <th id=\"T_e6e59ae6_7371_11e9_98c3_bca8a685a9d9level0_row2\" class=\"row_heading level0 row2\" >15-19</th>\n",
       "                        <td id=\"T_e6e59ae6_7371_11e9_98c3_bca8a685a9d9row2_col0\" class=\"data row2 col0\" >107</td>\n",
       "                        <td id=\"T_e6e59ae6_7371_11e9_98c3_bca8a685a9d9row2_col1\" class=\"data row2 col1\" >18.58</td>\n",
       "            </tr>\n",
       "            <tr>\n",
       "                        <th id=\"T_e6e59ae6_7371_11e9_98c3_bca8a685a9d9level0_row3\" class=\"row_heading level0 row3\" >20-24</th>\n",
       "                        <td id=\"T_e6e59ae6_7371_11e9_98c3_bca8a685a9d9row3_col0\" class=\"data row3 col0\" >258</td>\n",
       "                        <td id=\"T_e6e59ae6_7371_11e9_98c3_bca8a685a9d9row3_col1\" class=\"data row3 col1\" >44.79</td>\n",
       "            </tr>\n",
       "            <tr>\n",
       "                        <th id=\"T_e6e59ae6_7371_11e9_98c3_bca8a685a9d9level0_row4\" class=\"row_heading level0 row4\" >25-29</th>\n",
       "                        <td id=\"T_e6e59ae6_7371_11e9_98c3_bca8a685a9d9row4_col0\" class=\"data row4 col0\" >77</td>\n",
       "                        <td id=\"T_e6e59ae6_7371_11e9_98c3_bca8a685a9d9row4_col1\" class=\"data row4 col1\" >13.37</td>\n",
       "            </tr>\n",
       "            <tr>\n",
       "                        <th id=\"T_e6e59ae6_7371_11e9_98c3_bca8a685a9d9level0_row5\" class=\"row_heading level0 row5\" >30-34</th>\n",
       "                        <td id=\"T_e6e59ae6_7371_11e9_98c3_bca8a685a9d9row5_col0\" class=\"data row5 col0\" >52</td>\n",
       "                        <td id=\"T_e6e59ae6_7371_11e9_98c3_bca8a685a9d9row5_col1\" class=\"data row5 col1\" >9.03</td>\n",
       "            </tr>\n",
       "            <tr>\n",
       "                        <th id=\"T_e6e59ae6_7371_11e9_98c3_bca8a685a9d9level0_row6\" class=\"row_heading level0 row6\" >35-39</th>\n",
       "                        <td id=\"T_e6e59ae6_7371_11e9_98c3_bca8a685a9d9row6_col0\" class=\"data row6 col0\" >31</td>\n",
       "                        <td id=\"T_e6e59ae6_7371_11e9_98c3_bca8a685a9d9row6_col1\" class=\"data row6 col1\" >5.38</td>\n",
       "            </tr>\n",
       "            <tr>\n",
       "                        <th id=\"T_e6e59ae6_7371_11e9_98c3_bca8a685a9d9level0_row7\" class=\"row_heading level0 row7\" >40+</th>\n",
       "                        <td id=\"T_e6e59ae6_7371_11e9_98c3_bca8a685a9d9row7_col0\" class=\"data row7 col0\" >12</td>\n",
       "                        <td id=\"T_e6e59ae6_7371_11e9_98c3_bca8a685a9d9row7_col1\" class=\"data row7 col1\" >2.08</td>\n",
       "            </tr>\n",
       "    </tbody></table>"
      ],
      "text/plain": [
       "<pandas.io.formats.style.Styler at 0x22620be4710>"
      ]
     },
     "execution_count": 6,
     "metadata": {},
     "output_type": "execute_result"
    }
   ],
   "source": [
    "# Establish bins for ages\n",
    "\n",
    "age_bins = [0, 9.99, 14.99, 19.99, 24.99, 29.99, 34.99, 39.99, 99]\n",
    "age_groups = [\"<10\", \"10-14\", \"15-19\", \"20-24\", \"25-29\", \"30-34\", \"35-39\", \"40+\"]\n",
    "\n",
    "# Categorize the existing players using the age bins\n",
    "\n",
    "purchase_data[\"Age Group\"] = pd.cut(purchase_data[\"Age\"], age_bins, labels = age_groups)\n",
    "\n",
    "# Create new data frame with the added \"Age Group\" and group it\n",
    "\n",
    "age_grouped_df = purchase_data.groupby([\"Age Group\"])\n",
    "\n",
    "# Calculate the numbers and percentages by age group\n",
    "\n",
    "total_count_by_age = age_grouped_df[\"SN\"].nunique()\n",
    "\n",
    "percentage_by_age = total_count_by_age / total_players * 100\n",
    "\n",
    "# Create a summary data frame to hold the results\n",
    "\n",
    "df_grouped_by_age = pd.DataFrame({\"Total Count\": total_count_by_age,\n",
    "                                 \"Percentage of Players\": percentage_by_age})\n",
    "\n",
    "# Format the data frame with no index name in the corner\n",
    "\n",
    "df_grouped_by_age.index.name = None\n",
    "\n",
    "# Give the displayed data cleaner formatting Run Data Frame\n",
    "\n",
    "#df_grouped_by_age[\"Percentage of Players\"] = df_grouped_by_age[\"Percentage of Players\"].map(\"{:,.2f}\".format)\n",
    "\n",
    "df_grouped_by_age.style.format({\"Percentage of Players\": \"{:,.2f}\"})"
   ]
  },
  {
   "cell_type": "markdown",
   "metadata": {},
   "source": [
    "## Purchasing Analysis (Age)"
   ]
  },
  {
   "cell_type": "markdown",
   "metadata": {},
   "source": [
    "* Bin the purchase_data data frame by age\n",
    "\n",
    "\n",
    "* Run basic calculations to obtain purchase count, avg. purchase price, avg. purchase total per person etc. in the table below\n",
    "\n",
    "\n",
    "* Create a summary data frame to hold the results\n",
    "\n",
    "\n",
    "* Optional: give the displayed data cleaner formatting\n",
    "\n",
    "\n",
    "* Display the summary data frame"
   ]
  },
  {
   "cell_type": "code",
   "execution_count": 7,
   "metadata": {},
   "outputs": [
    {
     "data": {
      "text/html": [
       "<style  type=\"text/css\" >\n",
       "</style><table id=\"T_e6e7bc50_7371_11e9_a53f_bca8a685a9d9\" ><thead>    <tr>        <th class=\"blank level0\" ></th>        <th class=\"col_heading level0 col0\" >Purchase Count</th>        <th class=\"col_heading level0 col1\" >Average Purchase Price</th>        <th class=\"col_heading level0 col2\" >Total Purchase Value</th>        <th class=\"col_heading level0 col3\" >Avg Total Purchase per Person</th>    </tr></thead><tbody>\n",
       "                <tr>\n",
       "                        <th id=\"T_e6e7bc50_7371_11e9_a53f_bca8a685a9d9level0_row0\" class=\"row_heading level0 row0\" ><10</th>\n",
       "                        <td id=\"T_e6e7bc50_7371_11e9_a53f_bca8a685a9d9row0_col0\" class=\"data row0 col0\" >23</td>\n",
       "                        <td id=\"T_e6e7bc50_7371_11e9_a53f_bca8a685a9d9row0_col1\" class=\"data row0 col1\" >$3.35</td>\n",
       "                        <td id=\"T_e6e7bc50_7371_11e9_a53f_bca8a685a9d9row0_col2\" class=\"data row0 col2\" >$77.13</td>\n",
       "                        <td id=\"T_e6e7bc50_7371_11e9_a53f_bca8a685a9d9row0_col3\" class=\"data row0 col3\" >$4.54</td>\n",
       "            </tr>\n",
       "            <tr>\n",
       "                        <th id=\"T_e6e7bc50_7371_11e9_a53f_bca8a685a9d9level0_row1\" class=\"row_heading level0 row1\" >10-14</th>\n",
       "                        <td id=\"T_e6e7bc50_7371_11e9_a53f_bca8a685a9d9row1_col0\" class=\"data row1 col0\" >28</td>\n",
       "                        <td id=\"T_e6e7bc50_7371_11e9_a53f_bca8a685a9d9row1_col1\" class=\"data row1 col1\" >$2.96</td>\n",
       "                        <td id=\"T_e6e7bc50_7371_11e9_a53f_bca8a685a9d9row1_col2\" class=\"data row1 col2\" >$82.78</td>\n",
       "                        <td id=\"T_e6e7bc50_7371_11e9_a53f_bca8a685a9d9row1_col3\" class=\"data row1 col3\" >$3.76</td>\n",
       "            </tr>\n",
       "            <tr>\n",
       "                        <th id=\"T_e6e7bc50_7371_11e9_a53f_bca8a685a9d9level0_row2\" class=\"row_heading level0 row2\" >15-19</th>\n",
       "                        <td id=\"T_e6e7bc50_7371_11e9_a53f_bca8a685a9d9row2_col0\" class=\"data row2 col0\" >136</td>\n",
       "                        <td id=\"T_e6e7bc50_7371_11e9_a53f_bca8a685a9d9row2_col1\" class=\"data row2 col1\" >$3.04</td>\n",
       "                        <td id=\"T_e6e7bc50_7371_11e9_a53f_bca8a685a9d9row2_col2\" class=\"data row2 col2\" >$412.89</td>\n",
       "                        <td id=\"T_e6e7bc50_7371_11e9_a53f_bca8a685a9d9row2_col3\" class=\"data row2 col3\" >$3.86</td>\n",
       "            </tr>\n",
       "            <tr>\n",
       "                        <th id=\"T_e6e7bc50_7371_11e9_a53f_bca8a685a9d9level0_row3\" class=\"row_heading level0 row3\" >20-24</th>\n",
       "                        <td id=\"T_e6e7bc50_7371_11e9_a53f_bca8a685a9d9row3_col0\" class=\"data row3 col0\" >365</td>\n",
       "                        <td id=\"T_e6e7bc50_7371_11e9_a53f_bca8a685a9d9row3_col1\" class=\"data row3 col1\" >$3.05</td>\n",
       "                        <td id=\"T_e6e7bc50_7371_11e9_a53f_bca8a685a9d9row3_col2\" class=\"data row3 col2\" >$1114.06</td>\n",
       "                        <td id=\"T_e6e7bc50_7371_11e9_a53f_bca8a685a9d9row3_col3\" class=\"data row3 col3\" >$4.32</td>\n",
       "            </tr>\n",
       "            <tr>\n",
       "                        <th id=\"T_e6e7bc50_7371_11e9_a53f_bca8a685a9d9level0_row4\" class=\"row_heading level0 row4\" >25-29</th>\n",
       "                        <td id=\"T_e6e7bc50_7371_11e9_a53f_bca8a685a9d9row4_col0\" class=\"data row4 col0\" >101</td>\n",
       "                        <td id=\"T_e6e7bc50_7371_11e9_a53f_bca8a685a9d9row4_col1\" class=\"data row4 col1\" >$2.90</td>\n",
       "                        <td id=\"T_e6e7bc50_7371_11e9_a53f_bca8a685a9d9row4_col2\" class=\"data row4 col2\" >$293.00</td>\n",
       "                        <td id=\"T_e6e7bc50_7371_11e9_a53f_bca8a685a9d9row4_col3\" class=\"data row4 col3\" >$3.81</td>\n",
       "            </tr>\n",
       "            <tr>\n",
       "                        <th id=\"T_e6e7bc50_7371_11e9_a53f_bca8a685a9d9level0_row5\" class=\"row_heading level0 row5\" >30-34</th>\n",
       "                        <td id=\"T_e6e7bc50_7371_11e9_a53f_bca8a685a9d9row5_col0\" class=\"data row5 col0\" >73</td>\n",
       "                        <td id=\"T_e6e7bc50_7371_11e9_a53f_bca8a685a9d9row5_col1\" class=\"data row5 col1\" >$2.93</td>\n",
       "                        <td id=\"T_e6e7bc50_7371_11e9_a53f_bca8a685a9d9row5_col2\" class=\"data row5 col2\" >$214.00</td>\n",
       "                        <td id=\"T_e6e7bc50_7371_11e9_a53f_bca8a685a9d9row5_col3\" class=\"data row5 col3\" >$4.12</td>\n",
       "            </tr>\n",
       "            <tr>\n",
       "                        <th id=\"T_e6e7bc50_7371_11e9_a53f_bca8a685a9d9level0_row6\" class=\"row_heading level0 row6\" >35-39</th>\n",
       "                        <td id=\"T_e6e7bc50_7371_11e9_a53f_bca8a685a9d9row6_col0\" class=\"data row6 col0\" >41</td>\n",
       "                        <td id=\"T_e6e7bc50_7371_11e9_a53f_bca8a685a9d9row6_col1\" class=\"data row6 col1\" >$3.60</td>\n",
       "                        <td id=\"T_e6e7bc50_7371_11e9_a53f_bca8a685a9d9row6_col2\" class=\"data row6 col2\" >$147.67</td>\n",
       "                        <td id=\"T_e6e7bc50_7371_11e9_a53f_bca8a685a9d9row6_col3\" class=\"data row6 col3\" >$4.76</td>\n",
       "            </tr>\n",
       "            <tr>\n",
       "                        <th id=\"T_e6e7bc50_7371_11e9_a53f_bca8a685a9d9level0_row7\" class=\"row_heading level0 row7\" >40+</th>\n",
       "                        <td id=\"T_e6e7bc50_7371_11e9_a53f_bca8a685a9d9row7_col0\" class=\"data row7 col0\" >13</td>\n",
       "                        <td id=\"T_e6e7bc50_7371_11e9_a53f_bca8a685a9d9row7_col1\" class=\"data row7 col1\" >$2.94</td>\n",
       "                        <td id=\"T_e6e7bc50_7371_11e9_a53f_bca8a685a9d9row7_col2\" class=\"data row7 col2\" >$38.24</td>\n",
       "                        <td id=\"T_e6e7bc50_7371_11e9_a53f_bca8a685a9d9row7_col3\" class=\"data row7 col3\" >$3.19</td>\n",
       "            </tr>\n",
       "    </tbody></table>"
      ],
      "text/plain": [
       "<pandas.io.formats.style.Styler at 0x22620be4b70>"
      ]
     },
     "execution_count": 7,
     "metadata": {},
     "output_type": "execute_result"
    }
   ],
   "source": [
    "# We did Establish bins for ages above:\n",
    "# age_bins = [0, 9.99, 14.99, 19.99, 24.99, 29.99, 34.99, 39.99, 99]\n",
    "# age_groups = [\"<10\", \"10-14\", \"15-19\", \"20-24\", \"25-29\", \"30-34\", \"35-39\", \"40+\"]\n",
    "\n",
    "# Count (Purchase Count by Age Group), (Average Purchase Price by Age Group), (Total Purchase Value be Age Group)\n",
    "\n",
    "purchase_count_by_age = age_grouped_df[\"Purchase ID\"].count()\n",
    "\n",
    "average_purchase_price_by_age = age_grouped_df[\"Price\"].mean()\n",
    "\n",
    "total_purchase_value_by_age = age_grouped_df[\"Price\"].sum()\n",
    "\n",
    "# Calculate the average purchase per person in the age group\n",
    "\n",
    "average_purchase_total_per_person_by_age = total_purchase_value_by_age / total_count_by_age\n",
    "\n",
    "# Create data frame with obtained values\n",
    "\n",
    "df_summary_by_age = pd.DataFrame({\"Purchase Count\": purchase_count_by_age,\n",
    "                                  \"Average Purchase Price\": average_purchase_price_by_age,\n",
    "                                  \"Total Purchase Value\": total_purchase_value_by_age,\n",
    "                                  \"Avg Total Purchase per Person\": average_purchase_total_per_person_by_age})\n",
    "\n",
    "# Format the data frame with no index name in the corner\n",
    "\n",
    "df_summary_by_age.index.name = None\n",
    "\n",
    "# Give the displayed data cleaner formatting and Run Data Frame \n",
    "\n",
    "#df_summary_by_age[\"Average Purchase Price\"] = df_summary_by_age[\"Average Purchase Price\"].map(\"${:.2f}\".format)\n",
    "#df_summary_by_age[\"Total Purchase Value\"]= df_summary_by_age[\"Total Purchase Value\"].map(\"${:.2f}\".format)\n",
    "#df_summary_by_age[\"Avg Total Purchase per Person\"] = df_summary_by_age[\"Avg Total Purchase per Person\"].map(\"${:.2f}\".format)\n",
    "\n",
    "df_summary_by_age.style.format({\"Average Purchase Price\": \"${:.2f}\",\n",
    "                                \"Total Purchase Value\": \"${:.2f}\",\n",
    "                                \"Avg Total Purchase per Person\": \"${:.2f}\"})"
   ]
  },
  {
   "cell_type": "markdown",
   "metadata": {},
   "source": [
    "## Top Spenders"
   ]
  },
  {
   "cell_type": "markdown",
   "metadata": {},
   "source": [
    "* Run basic calculations to obtain the results in the table below\n",
    "\n",
    "\n",
    "* Create a summary data frame to hold the results\n",
    "\n",
    "\n",
    "* Sort the total purchase value column in descending order\n",
    "\n",
    "\n",
    "* Optional: give the displayed data cleaner formatting\n",
    "\n",
    "\n",
    "* Display a preview of the summary data frame\n",
    "\n"
   ]
  },
  {
   "cell_type": "code",
   "execution_count": 8,
   "metadata": {},
   "outputs": [
    {
     "data": {
      "text/html": [
       "<style  type=\"text/css\" >\n",
       "</style><table id=\"T_e6eaef5e_7371_11e9_a230_bca8a685a9d9\" ><thead>    <tr>        <th class=\"blank level0\" ></th>        <th class=\"col_heading level0 col0\" >Purchase Count</th>        <th class=\"col_heading level0 col1\" >Average Purchase Price</th>        <th class=\"col_heading level0 col2\" >Total Purchase Value</th>    </tr>    <tr>        <th class=\"index_name level0\" >SN</th>        <th class=\"blank\" ></th>        <th class=\"blank\" ></th>        <th class=\"blank\" ></th>    </tr></thead><tbody>\n",
       "                <tr>\n",
       "                        <th id=\"T_e6eaef5e_7371_11e9_a230_bca8a685a9d9level0_row0\" class=\"row_heading level0 row0\" >Lisosia93</th>\n",
       "                        <td id=\"T_e6eaef5e_7371_11e9_a230_bca8a685a9d9row0_col0\" class=\"data row0 col0\" >5</td>\n",
       "                        <td id=\"T_e6eaef5e_7371_11e9_a230_bca8a685a9d9row0_col1\" class=\"data row0 col1\" >$3.79</td>\n",
       "                        <td id=\"T_e6eaef5e_7371_11e9_a230_bca8a685a9d9row0_col2\" class=\"data row0 col2\" >$18.96</td>\n",
       "            </tr>\n",
       "            <tr>\n",
       "                        <th id=\"T_e6eaef5e_7371_11e9_a230_bca8a685a9d9level0_row1\" class=\"row_heading level0 row1\" >Idastidru52</th>\n",
       "                        <td id=\"T_e6eaef5e_7371_11e9_a230_bca8a685a9d9row1_col0\" class=\"data row1 col0\" >4</td>\n",
       "                        <td id=\"T_e6eaef5e_7371_11e9_a230_bca8a685a9d9row1_col1\" class=\"data row1 col1\" >$3.86</td>\n",
       "                        <td id=\"T_e6eaef5e_7371_11e9_a230_bca8a685a9d9row1_col2\" class=\"data row1 col2\" >$15.45</td>\n",
       "            </tr>\n",
       "            <tr>\n",
       "                        <th id=\"T_e6eaef5e_7371_11e9_a230_bca8a685a9d9level0_row2\" class=\"row_heading level0 row2\" >Chamjask73</th>\n",
       "                        <td id=\"T_e6eaef5e_7371_11e9_a230_bca8a685a9d9row2_col0\" class=\"data row2 col0\" >3</td>\n",
       "                        <td id=\"T_e6eaef5e_7371_11e9_a230_bca8a685a9d9row2_col1\" class=\"data row2 col1\" >$4.61</td>\n",
       "                        <td id=\"T_e6eaef5e_7371_11e9_a230_bca8a685a9d9row2_col2\" class=\"data row2 col2\" >$13.83</td>\n",
       "            </tr>\n",
       "            <tr>\n",
       "                        <th id=\"T_e6eaef5e_7371_11e9_a230_bca8a685a9d9level0_row3\" class=\"row_heading level0 row3\" >Iral74</th>\n",
       "                        <td id=\"T_e6eaef5e_7371_11e9_a230_bca8a685a9d9row3_col0\" class=\"data row3 col0\" >4</td>\n",
       "                        <td id=\"T_e6eaef5e_7371_11e9_a230_bca8a685a9d9row3_col1\" class=\"data row3 col1\" >$3.40</td>\n",
       "                        <td id=\"T_e6eaef5e_7371_11e9_a230_bca8a685a9d9row3_col2\" class=\"data row3 col2\" >$13.62</td>\n",
       "            </tr>\n",
       "            <tr>\n",
       "                        <th id=\"T_e6eaef5e_7371_11e9_a230_bca8a685a9d9level0_row4\" class=\"row_heading level0 row4\" >Iskadarya95</th>\n",
       "                        <td id=\"T_e6eaef5e_7371_11e9_a230_bca8a685a9d9row4_col0\" class=\"data row4 col0\" >3</td>\n",
       "                        <td id=\"T_e6eaef5e_7371_11e9_a230_bca8a685a9d9row4_col1\" class=\"data row4 col1\" >$4.37</td>\n",
       "                        <td id=\"T_e6eaef5e_7371_11e9_a230_bca8a685a9d9row4_col2\" class=\"data row4 col2\" >$13.10</td>\n",
       "            </tr>\n",
       "    </tbody></table>"
      ],
      "text/plain": [
       "<pandas.io.formats.style.Styler at 0x22620be4d68>"
      ]
     },
     "execution_count": 8,
     "metadata": {},
     "output_type": "execute_result"
    }
   ],
   "source": [
    "# Group purchase data by \"SN\"\n",
    "\n",
    "spenders = purchase_data.groupby(\"SN\")\n",
    "\n",
    "# Calculate Purchase Count, Average Purchase Price and Total Purchase Value\n",
    "\n",
    "purchase_count_by_spenders = spenders[\"Purchase ID\"].count()\n",
    "\n",
    "average_purchase_price_by_spenders = spenders[\"Price\"].mean()\n",
    "\n",
    "total_purchase_value_by_spender = spenders[\"Price\"].sum()\n",
    "\n",
    "# Create data frame with obtained values\n",
    "\n",
    "top_spenders = pd.DataFrame({\"Purchase Count\": purchase_count_by_spenders,\n",
    "                             \"Average Purchase Price\": average_purchase_price_by_spenders,\n",
    "                             \"Total Purchase Value\": total_purchase_value_by_spender})\n",
    "\n",
    "# Sort Data Frame by Total Purchase Value to find top 5 spenders\n",
    "\n",
    "sorted_top_spenders = top_spenders.sort_values([\"Total Purchase Value\"], ascending = False)\n",
    "\n",
    "# Give the displayed data cleaner formatting and Run Data Frame\n",
    "\n",
    "#sorted_top_spenders[\"Average Purchase Price\"] = sorted_top_spenders[\"Average Purchase Price\"].map(\"${:,.2f}\".format)\n",
    "#sorted_top_spenders[\"Total Purchase Value\"] = sorted_top_spenders[\"Total Purchase Value\"].map(\"${:,.2f}\".format)\n",
    "\n",
    "sorted_top_spenders.head().style.format({\"Average Purchase Price\": \"${:,.2f}\",\n",
    "                                         \"Total Purchase Value\": \"${:,.2f}\"})\n"
   ]
  },
  {
   "cell_type": "markdown",
   "metadata": {},
   "source": [
    "## Most Popular Items"
   ]
  },
  {
   "cell_type": "markdown",
   "metadata": {},
   "source": [
    "* Retrieve the Item ID, Item Name, and Item Price columns\n",
    "\n",
    "\n",
    "* Group by Item ID and Item Name. Perform calculations to obtain purchase count, item price, and total purchase value\n",
    "\n",
    "\n",
    "* Create a summary data frame to hold the results\n",
    "\n",
    "\n",
    "* Sort the purchase count column in descending order\n",
    "\n",
    "\n",
    "* Optional: give the displayed data cleaner formatting\n",
    "\n",
    "\n",
    "* Display a preview of the summary data frame\n",
    "\n"
   ]
  },
  {
   "cell_type": "code",
   "execution_count": 9,
   "metadata": {},
   "outputs": [
    {
     "data": {
      "text/html": [
       "<style  type=\"text/css\" >\n",
       "</style><table id=\"T_e6ee217a_7371_11e9_8858_bca8a685a9d9\" ><thead>    <tr>        <th class=\"blank\" ></th>        <th class=\"blank level0\" ></th>        <th class=\"col_heading level0 col0\" >Purchase Count</th>        <th class=\"col_heading level0 col1\" >Item Price</th>        <th class=\"col_heading level0 col2\" >Total Purchase Value</th>    </tr>    <tr>        <th class=\"index_name level0\" >Item ID</th>        <th class=\"index_name level1\" >Item Name</th>        <th class=\"blank\" ></th>        <th class=\"blank\" ></th>        <th class=\"blank\" ></th>    </tr></thead><tbody>\n",
       "                <tr>\n",
       "                        <th id=\"T_e6ee217a_7371_11e9_8858_bca8a685a9d9level0_row0\" class=\"row_heading level0 row0\" >178</th>\n",
       "                        <th id=\"T_e6ee217a_7371_11e9_8858_bca8a685a9d9level1_row0\" class=\"row_heading level1 row0\" >Oathbreaker, Last Hope of the Breaking Storm</th>\n",
       "                        <td id=\"T_e6ee217a_7371_11e9_8858_bca8a685a9d9row0_col0\" class=\"data row0 col0\" >12</td>\n",
       "                        <td id=\"T_e6ee217a_7371_11e9_8858_bca8a685a9d9row0_col1\" class=\"data row0 col1\" >$4.23</td>\n",
       "                        <td id=\"T_e6ee217a_7371_11e9_8858_bca8a685a9d9row0_col2\" class=\"data row0 col2\" >$50.76</td>\n",
       "            </tr>\n",
       "            <tr>\n",
       "                        <th id=\"T_e6ee217a_7371_11e9_8858_bca8a685a9d9level0_row1\" class=\"row_heading level0 row1\" >145</th>\n",
       "                        <th id=\"T_e6ee217a_7371_11e9_8858_bca8a685a9d9level1_row1\" class=\"row_heading level1 row1\" >Fiery Glass Crusader</th>\n",
       "                        <td id=\"T_e6ee217a_7371_11e9_8858_bca8a685a9d9row1_col0\" class=\"data row1 col0\" >9</td>\n",
       "                        <td id=\"T_e6ee217a_7371_11e9_8858_bca8a685a9d9row1_col1\" class=\"data row1 col1\" >$4.58</td>\n",
       "                        <td id=\"T_e6ee217a_7371_11e9_8858_bca8a685a9d9row1_col2\" class=\"data row1 col2\" >$41.22</td>\n",
       "            </tr>\n",
       "            <tr>\n",
       "                        <th id=\"T_e6ee217a_7371_11e9_8858_bca8a685a9d9level0_row2\" class=\"row_heading level0 row2\" >108</th>\n",
       "                        <th id=\"T_e6ee217a_7371_11e9_8858_bca8a685a9d9level1_row2\" class=\"row_heading level1 row2\" >Extraction, Quickblade Of Trembling Hands</th>\n",
       "                        <td id=\"T_e6ee217a_7371_11e9_8858_bca8a685a9d9row2_col0\" class=\"data row2 col0\" >9</td>\n",
       "                        <td id=\"T_e6ee217a_7371_11e9_8858_bca8a685a9d9row2_col1\" class=\"data row2 col1\" >$3.53</td>\n",
       "                        <td id=\"T_e6ee217a_7371_11e9_8858_bca8a685a9d9row2_col2\" class=\"data row2 col2\" >$31.77</td>\n",
       "            </tr>\n",
       "            <tr>\n",
       "                        <th id=\"T_e6ee217a_7371_11e9_8858_bca8a685a9d9level0_row3\" class=\"row_heading level0 row3\" >82</th>\n",
       "                        <th id=\"T_e6ee217a_7371_11e9_8858_bca8a685a9d9level1_row3\" class=\"row_heading level1 row3\" >Nirvana</th>\n",
       "                        <td id=\"T_e6ee217a_7371_11e9_8858_bca8a685a9d9row3_col0\" class=\"data row3 col0\" >9</td>\n",
       "                        <td id=\"T_e6ee217a_7371_11e9_8858_bca8a685a9d9row3_col1\" class=\"data row3 col1\" >$4.90</td>\n",
       "                        <td id=\"T_e6ee217a_7371_11e9_8858_bca8a685a9d9row3_col2\" class=\"data row3 col2\" >$44.10</td>\n",
       "            </tr>\n",
       "            <tr>\n",
       "                        <th id=\"T_e6ee217a_7371_11e9_8858_bca8a685a9d9level0_row4\" class=\"row_heading level0 row4\" >19</th>\n",
       "                        <th id=\"T_e6ee217a_7371_11e9_8858_bca8a685a9d9level1_row4\" class=\"row_heading level1 row4\" >Pursuit, Cudgel of Necromancy</th>\n",
       "                        <td id=\"T_e6ee217a_7371_11e9_8858_bca8a685a9d9row4_col0\" class=\"data row4 col0\" >8</td>\n",
       "                        <td id=\"T_e6ee217a_7371_11e9_8858_bca8a685a9d9row4_col1\" class=\"data row4 col1\" >$1.02</td>\n",
       "                        <td id=\"T_e6ee217a_7371_11e9_8858_bca8a685a9d9row4_col2\" class=\"data row4 col2\" >$8.16</td>\n",
       "            </tr>\n",
       "    </tbody></table>"
      ],
      "text/plain": [
       "<pandas.io.formats.style.Styler at 0x22620bfb898>"
      ]
     },
     "execution_count": 9,
     "metadata": {},
     "output_type": "execute_result"
    }
   ],
   "source": [
    "#  Retrieve the Item ID, Item Name, and Item Price columns\n",
    "\n",
    "items_data = purchase_data[[\"Item ID\", \"Item Name\", \"Price\"]]\n",
    "\n",
    "# Group items data by \"Item ID\" and \"Item Name\"\n",
    "\n",
    "items = items_data.groupby([\"Item ID\", \"Item Name\"])\n",
    "\n",
    "# Purchase Count \n",
    "\n",
    "purchase_count_by_items = items[\"Price\"].count()\n",
    "\n",
    "# Total Purchase Value\n",
    "\n",
    "total_purchase_value_by_items = items[\"Price\"].sum()\n",
    "\n",
    "# Item Price\n",
    "\n",
    "items_price = total_purchase_value_by_items / purchase_count_by_items\n",
    "\n",
    "# Create data frame with obtained values\n",
    "\n",
    "most_popular_items = pd.DataFrame({\"Purchase Count\": purchase_count_by_items,\n",
    "                                   \"Item Price\": items_price,\n",
    "                                   \"Total Purchase Value\": total_purchase_value_by_items})\n",
    "\n",
    "\n",
    "# Sort Data Frame by Purchase Count to find most popular items\n",
    "\n",
    "sorted_most_popular_items = most_popular_items.sort_values([\"Purchase Count\"], ascending = False)\n",
    "\n",
    "\n",
    "# Give the displayed data cleaner formatting and Run Data Frame\n",
    "\n",
    "#sorted_most_popular_items[\"Item Price\"] = sorted_most_popular_items[\"Item Price\"].map(\"${:,.2f}\".format)\n",
    "#sorted_most_popular_items[\"Total Purchase Value\"] = sorted_most_popular_items[\"Total Purchase Value\"].map(\"${:,.2f}\".format)\n",
    "\n",
    "sorted_most_popular_items.head().style.format({\"Item Price\": \"${:,.2f}\",\n",
    "                                        \"Total Purchase Value\": \"${:,.2f}\"})\n",
    "\n"
   ]
  },
  {
   "cell_type": "markdown",
   "metadata": {},
   "source": [
    "## Most Profitable Items"
   ]
  },
  {
   "cell_type": "markdown",
   "metadata": {},
   "source": [
    "* Sort the above table by total purchase value in descending order\n",
    "\n",
    "\n",
    "* Optional: give the displayed data cleaner formatting\n",
    "\n",
    "\n",
    "* Display a preview of the data frame\n",
    "\n"
   ]
  },
  {
   "cell_type": "code",
   "execution_count": 10,
   "metadata": {
    "scrolled": true
   },
   "outputs": [
    {
     "data": {
      "text/html": [
       "<style  type=\"text/css\" >\n",
       "</style><table id=\"T_e6f069a8_7371_11e9_92ac_bca8a685a9d9\" ><thead>    <tr>        <th class=\"blank\" ></th>        <th class=\"blank level0\" ></th>        <th class=\"col_heading level0 col0\" >Purchase Count</th>        <th class=\"col_heading level0 col1\" >Item Price</th>        <th class=\"col_heading level0 col2\" >Total Purchase Value</th>    </tr>    <tr>        <th class=\"index_name level0\" >Item ID</th>        <th class=\"index_name level1\" >Item Name</th>        <th class=\"blank\" ></th>        <th class=\"blank\" ></th>        <th class=\"blank\" ></th>    </tr></thead><tbody>\n",
       "                <tr>\n",
       "                        <th id=\"T_e6f069a8_7371_11e9_92ac_bca8a685a9d9level0_row0\" class=\"row_heading level0 row0\" >178</th>\n",
       "                        <th id=\"T_e6f069a8_7371_11e9_92ac_bca8a685a9d9level1_row0\" class=\"row_heading level1 row0\" >Oathbreaker, Last Hope of the Breaking Storm</th>\n",
       "                        <td id=\"T_e6f069a8_7371_11e9_92ac_bca8a685a9d9row0_col0\" class=\"data row0 col0\" >12</td>\n",
       "                        <td id=\"T_e6f069a8_7371_11e9_92ac_bca8a685a9d9row0_col1\" class=\"data row0 col1\" >$4.23</td>\n",
       "                        <td id=\"T_e6f069a8_7371_11e9_92ac_bca8a685a9d9row0_col2\" class=\"data row0 col2\" >$50.76</td>\n",
       "            </tr>\n",
       "            <tr>\n",
       "                        <th id=\"T_e6f069a8_7371_11e9_92ac_bca8a685a9d9level0_row1\" class=\"row_heading level0 row1\" >82</th>\n",
       "                        <th id=\"T_e6f069a8_7371_11e9_92ac_bca8a685a9d9level1_row1\" class=\"row_heading level1 row1\" >Nirvana</th>\n",
       "                        <td id=\"T_e6f069a8_7371_11e9_92ac_bca8a685a9d9row1_col0\" class=\"data row1 col0\" >9</td>\n",
       "                        <td id=\"T_e6f069a8_7371_11e9_92ac_bca8a685a9d9row1_col1\" class=\"data row1 col1\" >$4.90</td>\n",
       "                        <td id=\"T_e6f069a8_7371_11e9_92ac_bca8a685a9d9row1_col2\" class=\"data row1 col2\" >$44.10</td>\n",
       "            </tr>\n",
       "            <tr>\n",
       "                        <th id=\"T_e6f069a8_7371_11e9_92ac_bca8a685a9d9level0_row2\" class=\"row_heading level0 row2\" >145</th>\n",
       "                        <th id=\"T_e6f069a8_7371_11e9_92ac_bca8a685a9d9level1_row2\" class=\"row_heading level1 row2\" >Fiery Glass Crusader</th>\n",
       "                        <td id=\"T_e6f069a8_7371_11e9_92ac_bca8a685a9d9row2_col0\" class=\"data row2 col0\" >9</td>\n",
       "                        <td id=\"T_e6f069a8_7371_11e9_92ac_bca8a685a9d9row2_col1\" class=\"data row2 col1\" >$4.58</td>\n",
       "                        <td id=\"T_e6f069a8_7371_11e9_92ac_bca8a685a9d9row2_col2\" class=\"data row2 col2\" >$41.22</td>\n",
       "            </tr>\n",
       "            <tr>\n",
       "                        <th id=\"T_e6f069a8_7371_11e9_92ac_bca8a685a9d9level0_row3\" class=\"row_heading level0 row3\" >92</th>\n",
       "                        <th id=\"T_e6f069a8_7371_11e9_92ac_bca8a685a9d9level1_row3\" class=\"row_heading level1 row3\" >Final Critic</th>\n",
       "                        <td id=\"T_e6f069a8_7371_11e9_92ac_bca8a685a9d9row3_col0\" class=\"data row3 col0\" >8</td>\n",
       "                        <td id=\"T_e6f069a8_7371_11e9_92ac_bca8a685a9d9row3_col1\" class=\"data row3 col1\" >$4.88</td>\n",
       "                        <td id=\"T_e6f069a8_7371_11e9_92ac_bca8a685a9d9row3_col2\" class=\"data row3 col2\" >$39.04</td>\n",
       "            </tr>\n",
       "            <tr>\n",
       "                        <th id=\"T_e6f069a8_7371_11e9_92ac_bca8a685a9d9level0_row4\" class=\"row_heading level0 row4\" >103</th>\n",
       "                        <th id=\"T_e6f069a8_7371_11e9_92ac_bca8a685a9d9level1_row4\" class=\"row_heading level1 row4\" >Singed Scalpel</th>\n",
       "                        <td id=\"T_e6f069a8_7371_11e9_92ac_bca8a685a9d9row4_col0\" class=\"data row4 col0\" >8</td>\n",
       "                        <td id=\"T_e6f069a8_7371_11e9_92ac_bca8a685a9d9row4_col1\" class=\"data row4 col1\" >$4.35</td>\n",
       "                        <td id=\"T_e6f069a8_7371_11e9_92ac_bca8a685a9d9row4_col2\" class=\"data row4 col2\" >$34.80</td>\n",
       "            </tr>\n",
       "    </tbody></table>"
      ],
      "text/plain": [
       "<pandas.io.formats.style.Styler at 0x2261fe6bac8>"
      ]
     },
     "execution_count": 10,
     "metadata": {},
     "output_type": "execute_result"
    }
   ],
   "source": [
    "# Take the \"Sorted Most Popular Items\" data frame and change the sorting to find highest Total Purchase Value\n",
    "\n",
    "sorted_total_purchase_value = sorted_most_popular_items.sort_values([\"Total Purchase Value\"], ascending = False)\n",
    "\n",
    "# Give the displayed data cleaner formatting and Run Data Frame\n",
    "\n",
    "sorted_total_purchase_value.head().style.format({\"Item Price\": \"${:,.2f}\",\n",
    "                                        \"Total Purchase Value\": \"${:,.2f}\"})\n"
   ]
  },
  {
   "cell_type": "code",
   "execution_count": null,
   "metadata": {},
   "outputs": [],
   "source": []
  }
 ],
 "metadata": {
  "anaconda-cloud": {},
  "kernel_info": {
   "name": "python3"
  },
  "kernelspec": {
   "display_name": "Python [conda env:PythonData] *",
   "language": "python",
   "name": "conda-env-PythonData-py"
  },
  "language_info": {
   "codemirror_mode": {
    "name": "ipython",
    "version": 3
   },
   "file_extension": ".py",
   "mimetype": "text/x-python",
   "name": "python",
   "nbconvert_exporter": "python",
   "pygments_lexer": "ipython3",
   "version": "3.6.8"
  },
  "nteract": {
   "version": "0.2.0"
  }
 },
 "nbformat": 4,
 "nbformat_minor": 2
}
